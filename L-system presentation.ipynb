{
 "cells": [
  {
   "cell_type": "code",
   "execution_count": 426,
   "metadata": {
    "slideshow": {
     "slide_type": "skip"
    }
   },
   "outputs": [],
   "source": [
    "import numpy as np\n",
    "import cairo"
   ]
  },
  {
   "cell_type": "markdown",
   "metadata": {
    "slideshow": {
     "slide_type": "skip"
    }
   },
   "source": [
    "### Discontinued\n",
    "`class L_system:\n",
    "    def __init__(Alphabet: str, Production: iter, Axioms: iter):\n",
    "        self.Alphabet = Alphabet\n",
    "        self.Production = Production\n",
    "        self.Axioms = Axioms`"
   ]
  },
  {
   "cell_type": "markdown",
   "metadata": {
    "slideshow": {
     "slide_type": "slide"
    }
   },
   "source": [
    "# Fractal Turtles"
   ]
  },
  {
   "cell_type": "markdown",
   "metadata": {
    "slideshow": {
     "slide_type": "subslide"
    }
   },
   "source": [
    "# Fractal Turtles, or\n",
    "### Deterministic context free formal grammars in finite string fractal representation"
   ]
  },
  {
   "cell_type": "markdown",
   "metadata": {
    "slideshow": {
     "slide_type": "slide"
    }
   },
   "source": [
    "# What is an L-system?"
   ]
  },
  {
   "cell_type": "markdown",
   "metadata": {
    "slideshow": {
     "slide_type": "fragment"
    }
   },
   "source": [
    "### \"...parallel rewriting system and a type of formal grammar. Consist of an Alphabet, an initial \"axiom\" and a set of production rules...\""
   ]
  },
  {
   "cell_type": "markdown",
   "metadata": {
    "slideshow": {
     "slide_type": "slide"
    }
   },
   "source": [
    "# Rewrite"
   ]
  },
  {
   "cell_type": "code",
   "execution_count": 415,
   "metadata": {
    "slideshow": {
     "slide_type": "fragment"
    }
   },
   "outputs": [],
   "source": [
    "def rewrite(w: str, P: dict, num=1) -> str:\n",
    "    s = w  # shallow\n",
    "    for n in range(num):\n",
    "        #s = s.split(sep=''.join(list(P.keys())))\n",
    "        s = ''.join([P[l] for l in list(s)])\n",
    "    return s"
   ]
  },
  {
   "cell_type": "code",
   "execution_count": 416,
   "metadata": {
    "scrolled": true,
    "slideshow": {
     "slide_type": "fragment"
    }
   },
   "outputs": [
    {
     "data": {
      "text/plain": [
       "'ABAAABAAABABABAA'"
      ]
     },
     "execution_count": 416,
     "metadata": {},
     "output_type": "execute_result"
    }
   ],
   "source": [
    "w = 'AABA'\n",
    "P = {'A': 'AB', 'B': 'AA'}\n",
    "\n",
    "rewrite(w, P, 2) # 'ABAAABAAABABABAA'"
   ]
  },
  {
   "cell_type": "markdown",
   "metadata": {
    "slideshow": {
     "slide_type": "slide"
    }
   },
   "source": [
    "# Why the L-systems?"
   ]
  },
  {
   "cell_type": "markdown",
   "metadata": {
    "slideshow": {
     "slide_type": "fragment"
    }
   },
   "source": [
    "<img src=\"https://encrypted-tbn0.gstatic.com/images?q=tbn:ANd9GcQJGWKCePEgq2n2U5jzS_eMaW1Zr7SDjlNJeUz_nM3csRPih1QZ\">"
   ]
  },
  {
   "cell_type": "markdown",
   "metadata": {
    "slideshow": {
     "slide_type": "skip"
    }
   },
   "source": [
    "### Cairo official example"
   ]
  },
  {
   "cell_type": "code",
   "execution_count": 417,
   "metadata": {
    "slideshow": {
     "slide_type": "skip"
    }
   },
   "outputs": [],
   "source": [
    "with cairo.SVGSurface(\"example.svg\", 200, 200) as surface:\n",
    "    context = cairo.Context(surface)\n",
    "    x, y, x1, y1 = 0.1, 0.5, 0.4, 0.9\n",
    "    x2, y2, x3, y3 = 0.6, 0.1, 0.9, 0.5\n",
    "    context.scale(200, 200)\n",
    "    context.set_line_width(0.04)\n",
    "    context.move_to(x, y)\n",
    "    context.curve_to(x1, y1, x2, y2, x3, y3)\n",
    "    context.stroke()\n",
    "    context.set_source_rgba(1, 0.2, 0.2, 0.6)\n",
    "    context.set_line_width(0.02)\n",
    "    context.move_to(x, y)\n",
    "    context.line_to(x1, y1)\n",
    "    context.move_to(x2, y2)\n",
    "    context.line_to(x3, y3)\n",
    "    context.stroke()"
   ]
  },
  {
   "cell_type": "code",
   "execution_count": 418,
   "metadata": {
    "slideshow": {
     "slide_type": "notes"
    }
   },
   "outputs": [
    {
     "data": {
      "text/plain": [
       "1.5707963267948966"
      ]
     },
     "execution_count": 418,
     "metadata": {},
     "output_type": "execute_result"
    }
   ],
   "source": [
    "def radians(degree):\n",
    "    return np.pi / 180 * degree\n",
    "\n",
    "radians(90) #1.57..."
   ]
  },
  {
   "cell_type": "code",
   "execution_count": 419,
   "metadata": {
    "slideshow": {
     "slide_type": "notes"
    }
   },
   "outputs": [],
   "source": [
    "def rotateby(r=(1,0), angle=30):\n",
    "    rad_angle = radians(angle)\n",
    "    rot_matrix = np.array([[np.cos(rad_angle), np.sin(rad_angle)],\n",
    "                        [-np.sin(rad_angle), np.cos(rad_angle)]])\n",
    "    return np.round(np.dot(rot_matrix, r), 2)"
   ]
  },
  {
   "cell_type": "code",
   "execution_count": 420,
   "metadata": {
    "slideshow": {
     "slide_type": "notes"
    }
   },
   "outputs": [
    {
     "data": {
      "text/plain": [
       "array([ 0.87, -0.5 ])"
      ]
     },
     "execution_count": 420,
     "metadata": {},
     "output_type": "execute_result"
    }
   ],
   "source": [
    "rotateby()  # 0.87, -1/2"
   ]
  },
  {
   "cell_type": "code",
   "execution_count": 421,
   "metadata": {
    "slideshow": {
     "slide_type": "slide"
    }
   },
   "outputs": [],
   "source": [
    "class Turtle_functions():\n",
    "    def __init__(self, angle=90):\n",
    "        self.angle = angle  # with positive X-axis; degrees\n",
    "        self.stack = []     # bracket-stack\n",
    "    \n",
    "    def forward(self, r=1):\n",
    "        ctx.rel_line_to(*rotateby((r, 0), self.angle))\n",
    "        #ctx.stroke()\n",
    "        \n",
    "    def left(self, angle=30):\n",
    "        self.angle += angle\n",
    "    def right(self, angle):\n",
    "        self.left(-angle)\n",
    "        \n",
    "    def push(self):\n",
    "        self.stack.append((ctx.get_current_point(), self.angle))\n",
    "        \n",
    "    def pop(self):\n",
    "        pt, angle = self.stack.pop()\n",
    "        ctx.move_to(pt); self.angle = angle"
   ]
  },
  {
   "cell_type": "code",
   "execution_count": 422,
   "metadata": {},
   "outputs": [],
   "source": [
    "def normalize_context():\n",
    "    ctx = cairo.Context(surface)\n",
    "    ctx.scale(9, 9)  # ->100x100\n",
    "    ctx.set_line_width(.4)\n",
    "    ctx.move_to(50, 50)\n",
    "    return ctx"
   ]
  },
  {
   "cell_type": "code",
   "execution_count": 1,
   "metadata": {},
   "outputs": [],
   "source": [
    "def draw(func, surface=None, ctx=None, \n",
    "         start_pos=(50,50), out='out.png', *args, **kwargs):\n",
    "    if surface == None:\n",
    "        surface = cairo.ImageSurface(cairo.FORMAT_ARGB32, 900, 900)\n",
    "        ctx = cairo.Context(surface)\n",
    "        ctx.scale(9, 9)\n",
    "        \n",
    "    # assuming 100x100 scaled context \n",
    "    ctx.set_line_width(.4)\n",
    "    ctx.move_to(*start_pos)\n",
    "    \n",
    "    func(*args, **kwargs) \n",
    "    surface.write_to_png(out)"
   ]
  },
  {
   "cell_type": "markdown",
   "metadata": {
    "slideshow": {
     "slide_type": "slide"
    }
   },
   "source": [
    "# Curve implementation"
   ]
  },
  {
   "cell_type": "code",
   "execution_count": 456,
   "metadata": {
    "slideshow": {
     "slide_type": "subslide"
    }
   },
   "outputs": [],
   "source": [
    "# Ex. Dragon Curve\n",
    "surface = cairo.ImageSurface(cairo.FORMAT_ARGB32, 900, 900)\n",
    "ctx = normalize_context()\n",
    "def Dragon_curve(axiom='FX', Prod={'X': 'XLYFL', 'Y': 'RFXRY', 'L': 'L', 'R': 'R', 'F': 'F', ' ': ' '},\n",
    "                num=5, length=3, x_off=0, y_off=0):\n",
    "    \n",
    "    tf = Turtle_functions()\n",
    "    def F():\n",
    "        tf.forward(r=length)\n",
    "    def X():\n",
    "        pass\n",
    "    Y = X\n",
    "    def L():\n",
    "        tf.left(90)\n",
    "    def R():\n",
    "        tf.right(90)\n",
    "\n",
    "    d_curve = rewrite(axiom, Prod, num)\n",
    "    \n",
    "    a_sequence = []\n",
    "    for action in d_curve:\n",
    "        if action != ' ':\n",
    "            a_sequence.append(locals()[action])\n",
    "    def turtle_seq(seq: list, *args):\n",
    "        for f in seq:\n",
    "            f(*args)  # they are all unparameterized, if you'd payed attention\n",
    "    a_sequence.append(ctx.stroke)\n",
    "\n",
    "    draw(turtle_seq, surface=surface, ctx=ctx, start_pos=(50+x_off,50+y_off), seq=a_sequence)\n",
    "    return d_curve"
   ]
  },
  {
   "cell_type": "code",
   "execution_count": 457,
   "metadata": {
    "slideshow": {
     "slide_type": "slide"
    }
   },
   "outputs": [],
   "source": [
    "Dragon_curve(num=4, length=2, y_off=30);"
   ]
  },
  {
   "cell_type": "markdown",
   "metadata": {
    "slideshow": {
     "slide_type": "fragment"
    }
   },
   "source": [
    "![](./out.png)"
   ]
  }
 ],
 "metadata": {
  "celltoolbar": "Slideshow",
  "kernelspec": {
   "display_name": "Python 3",
   "language": "python",
   "name": "python3"
  },
  "language_info": {
   "codemirror_mode": {
    "name": "ipython",
    "version": 3
   },
   "file_extension": ".py",
   "mimetype": "text/x-python",
   "name": "python",
   "nbconvert_exporter": "python",
   "pygments_lexer": "ipython3",
   "version": "3.6.5"
  }
 },
 "nbformat": 4,
 "nbformat_minor": 2
}
