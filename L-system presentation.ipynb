{
 "cells": [
  {
   "cell_type": "code",
   "execution_count": 3,
   "metadata": {},
   "outputs": [],
   "source": [
    "import turtle as t\n",
    "from random import randint"
   ]
  },
  {
   "cell_type": "code",
   "execution_count": 4,
   "metadata": {},
   "outputs": [],
   "source": [
    "t.reset() # clearscr, reset position / direction"
   ]
  },
  {
   "cell_type": "code",
   "execution_count": 5,
   "metadata": {},
   "outputs": [],
   "source": [
    "t.speed(1) # linear from 0..10"
   ]
  },
  {
   "cell_type": "code",
   "execution_count": 6,
   "metadata": {},
   "outputs": [],
   "source": [
    "t.hideturtle() # speed / pretty\n",
    "t.showturtle()"
   ]
  },
  {
   "cell_type": "code",
   "execution_count": 7,
   "metadata": {},
   "outputs": [],
   "source": [
    "def setup():\n",
    "# bad bad(); bad\n",
    "    t.reset()\n",
    "    t.up()\n",
    "    t.speed(0)\n",
    "    t.width(2)\n",
    "    t.hideturtle()\n",
    "    t.down()\n",
    "    t.screensize(1600, 2000)\n",
    "    t.tracer(0, 0)"
   ]
  },
  {
   "cell_type": "markdown",
   "metadata": {},
   "source": [
    "### Discontinued\n",
    "`class L_system:\n",
    "    def __init__(Alphabet: str, Production: iter, Axioms: iter):\n",
    "        self.Alphabet = Alphabet\n",
    "        self.Production = Production\n",
    "        self.Axioms = Axioms`"
   ]
  },
  {
   "cell_type": "code",
   "execution_count": 8,
   "metadata": {},
   "outputs": [],
   "source": [
    "def rewrite(w: str, P: dict, num=1) -> str:\n",
    "    s = w  # shallow\n",
    "    for n in range(num):\n",
    "        #s = s.split(sep=''.join(list(P.keys())))\n",
    "        s = ''.join([P[l] for l in list(s)])\n",
    "    return s"
   ]
  },
  {
   "cell_type": "markdown",
   "metadata": {},
   "source": [
    "Just slightly more involved than the original example"
   ]
  },
  {
   "cell_type": "code",
   "execution_count": 14,
   "metadata": {},
   "outputs": [
    {
     "data": {
      "text/plain": [
       "'ABAAABAAABABABAA'"
      ]
     },
     "execution_count": 14,
     "metadata": {},
     "output_type": "execute_result"
    }
   ],
   "source": [
    "w = 'AABA'\n",
    "P = {'A': 'AB', 'B': 'AA'}\n",
    "\n",
    "rewrite(w, P, 2) # 'ABAAABAAABABABAA'"
   ]
  },
  {
   "cell_type": "code",
   "execution_count": 11,
   "metadata": {},
   "outputs": [],
   "source": [
    "\n",
    "def Koch_segment(length=15, num=5):\n",
    "    stack = []\n",
    "    ω = 'A' \n",
    "    Production = {'F': 'FF', 'E': 'E',\n",
    "                  'L': 'L', 'R': 'R', 'I': 'I', 'Q': 'Q', 'V': 'VVR VR VR VR VR VL V',\n",
    "                  'P': 'P', 'O': 'O', 'A': 'F PLAQ RA E', ' ': ' '}\n",
    "    def I():\n",
    "        t.right(90)\n",
    "    def A():\n",
    "        t.fd(length)\n",
    "    def L():\n",
    "        t.left(32)\n",
    "    def R():\n",
    "        t.right(32)\n",
    "    def F():\n",
    "        dice = randint(0,100)\n",
    "        if dice > 90:\n",
    "            t.fd(length * 1.2)\n",
    "        elif dice > 19:\n",
    "            t.fd(length)\n",
    "        else:\n",
    "            pass\n",
    "        \n",
    "        \n",
    "    def E():\n",
    "        square = lambda: A();A();I();A();A();I();A();A();I();A();A();I()\n",
    "        def triangle(): \n",
    "            P();A();A();I();A();A();O()\n",
    "        def cirice():\n",
    "            V(); V(); I();  V(); I();  V(); I();  V(); I();  V(); I();  V(); I();I(); V()\n",
    "        dice = randint(0, 100)\n",
    "        cirice()\n",
    "            \n",
    "    V = A\n",
    "        \n",
    "        \n",
    "        #Push and pOp\n",
    "    def P(stack=stack):\n",
    "        stack.append((t.pos(), t.heading()))\n",
    "    def O(stack=stack):\n",
    "        t_pos, t_dir = stack.pop()\n",
    "        t.setpos(t_pos)\n",
    "        t.setheading(t_dir)\n",
    "    def Q(stack=stack):\n",
    "        t.up()\n",
    "        t_pos, t_dir = stack.pop()\n",
    "        t.setpos(t_pos)\n",
    "        t.setheading(t_dir)\n",
    "        t.down()\n",
    "        \n",
    "        \n",
    "        \n",
    "    curve = list(rewrite(ω, Production, num))\n",
    "    \n",
    "    \n",
    "    t.up()\n",
    "    t.setpos(t.pos() - (0, 300))\n",
    "    t.setheading(90)\n",
    "    t.down()\n",
    "    \n",
    "    for action in curve:\n",
    "        if action != ' ':\n",
    "            locals()[action]()  # amazing\n",
    "            \n",
    "    t.update()"
   ]
  },
  {
   "cell_type": "code",
   "execution_count": 19,
   "metadata": {
    "scrolled": false
   },
   "outputs": [],
   "source": [
    "setup()\n",
    "Koch_segment(length=15, num=5)"
   ]
  },
  {
   "cell_type": "code",
   "execution_count": 20,
   "metadata": {},
   "outputs": [],
   "source": [
    "t.update()"
   ]
  },
  {
   "cell_type": "code",
   "execution_count": 22,
   "metadata": {},
   "outputs": [],
   "source": [
    "t?"
   ]
  },
  {
   "cell_type": "code",
   "execution_count": null,
   "metadata": {},
   "outputs": [],
   "source": []
  }
 ],
 "metadata": {
  "kernelspec": {
   "display_name": "Python 3",
   "language": "python",
   "name": "python3"
  },
  "language_info": {
   "codemirror_mode": {
    "name": "ipython",
    "version": 3
   },
   "file_extension": ".py",
   "mimetype": "text/x-python",
   "name": "python",
   "nbconvert_exporter": "python",
   "pygments_lexer": "ipython3",
   "version": "3.6.5"
  }
 },
 "nbformat": 4,
 "nbformat_minor": 2
}
