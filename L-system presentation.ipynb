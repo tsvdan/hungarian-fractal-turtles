{
 "cells": [
  {
   "cell_type": "code",
   "execution_count": 1,
   "metadata": {},
   "outputs": [],
   "source": [
    "import turtle as t\n",
    "from random import randint"
   ]
  },
  {
   "cell_type": "code",
   "execution_count": 2,
   "metadata": {},
   "outputs": [],
   "source": [
    "t.reset() # clearscr, reset position / direction"
   ]
  },
  {
   "cell_type": "code",
   "execution_count": 3,
   "metadata": {},
   "outputs": [],
   "source": [
    "t.speed(1) # linear from 0..10"
   ]
  },
  {
   "cell_type": "code",
   "execution_count": 4,
   "metadata": {},
   "outputs": [],
   "source": [
    "t.hideturtle() # speed / pretty\n",
    "t.showturtle()"
   ]
  },
  {
   "cell_type": "code",
   "execution_count": 5,
   "metadata": {},
   "outputs": [],
   "source": [
    "def setup():\n",
    "# bad bad(); bad\n",
    "    t.reset()\n",
    "    t.up()\n",
    "    t.speed(0)\n",
    "    t.width(2)\n",
    "    t.hideturtle()\n",
    "    t.down()\n",
    "    t.screensize(1600, 2000)\n",
    "    t.tracer(0, 0)"
   ]
  },
  {
   "cell_type": "markdown",
   "metadata": {},
   "source": [
    "### Discontinued\n",
    "`class L_system:\n",
    "    def __init__(Alphabet: str, Production: iter, Axioms: iter):\n",
    "        self.Alphabet = Alphabet\n",
    "        self.Production = Production\n",
    "        self.Axioms = Axioms`"
   ]
  },
  {
   "cell_type": "code",
   "execution_count": 6,
   "metadata": {},
   "outputs": [],
   "source": [
    "def rewrite(w: str, P: dict, num=1) -> str:\n",
    "    s = w  # shallow\n",
    "    for n in range(num):\n",
    "        #s = s.split(sep=''.join(list(P.keys())))\n",
    "        s = ''.join([P[l] for l in list(s)])\n",
    "    return s"
   ]
  },
  {
   "cell_type": "markdown",
   "metadata": {},
   "source": [
    "Just slightly more involved than the original example"
   ]
  },
  {
   "cell_type": "code",
   "execution_count": 7,
   "metadata": {},
   "outputs": [
    {
     "data": {
      "text/plain": [
       "'ABAAABAAABABABAA'"
      ]
     },
     "execution_count": 7,
     "metadata": {},
     "output_type": "execute_result"
    }
   ],
   "source": [
    "w = 'AABA'\n",
    "P = {'A': 'AB', 'B': 'AA'}\n",
    "\n",
    "rewrite(w, P, 2) # 'ABAAABAAABABABAA'"
   ]
  },
  {
   "cell_type": "code",
   "execution_count": 8,
   "metadata": {},
   "outputs": [],
   "source": [
    "def Koch_segment(length=15, num=5):\n",
    "    stack = []\n",
    "    ω = 'A' \n",
    "    Production = {'F': 'FF', 'E': 'E',\n",
    "                  'L': 'L', 'R': 'R', 'I': 'I', 'Q': 'Q', 'V': 'VVR VR VR VR VR VL V',\n",
    "                  'P': 'P', 'O': 'O', 'A': 'F PLAQ RA E', ' ': ' '}\n",
    "    def I():\n",
    "        t.right(90)\n",
    "    def A():\n",
    "        t.fd(length)\n",
    "    def L():\n",
    "        t.left(32)\n",
    "    def R():\n",
    "        t.right(32)\n",
    "    def F():\n",
    "        dice = randint(0,100)\n",
    "        if dice > 90:\n",
    "            t.fd(length * 1.2)\n",
    "        elif dice > 19:\n",
    "            t.fd(length)\n",
    "        else:\n",
    "            pass\n",
    "        \n",
    "        \n",
    "    def E():\n",
    "        square = lambda: A();A();I();A();A();I();A();A();I();A();A();I()\n",
    "        def triangle(): \n",
    "            P();A();A();I();A();A();O()\n",
    "        def cirice():\n",
    "            V(); V(); I();  V(); I();  V(); I();  V(); I();  V(); I();  V(); I();I(); V()\n",
    "        dice = randint(0, 100)\n",
    "        cirice()\n",
    "            \n",
    "    V = A\n",
    "        \n",
    "        \n",
    "        #Push and pOp\n",
    "    def P(stack=stack):\n",
    "        stack.append((t.pos(), t.heading()))\n",
    "    def O(stack=stack):\n",
    "        t_pos, t_dir = stack.pop()\n",
    "        t.setpos(t_pos)\n",
    "        t.setheading(t_dir)\n",
    "    def Q(stack=stack):\n",
    "        t.up()\n",
    "        t_pos, t_dir = stack.pop()\n",
    "        t.setpos(t_pos)\n",
    "        t.setheading(t_dir)\n",
    "        t.down()\n",
    "        \n",
    "        \n",
    "        \n",
    "    curve = list(rewrite(ω, Production, num))\n",
    "    \n",
    "    \n",
    "    t.up()\n",
    "    t.setpos(t.pos() - (0, 300))\n",
    "    t.setheading(90)\n",
    "    t.down()\n",
    "    \n",
    "    for action in curve:\n",
    "        if action != ' ':\n",
    "            locals()[action]()  # amazing\n",
    "            \n",
    "    t.update()"
   ]
  },
  {
   "cell_type": "code",
   "execution_count": 9,
   "metadata": {
    "scrolled": false
   },
   "outputs": [],
   "source": [
    "setup()\n",
    "Koch_segment(length=15, num=5)"
   ]
  },
  {
   "cell_type": "code",
   "execution_count": 10,
   "metadata": {},
   "outputs": [],
   "source": [
    "t.update()"
   ]
  },
  {
   "cell_type": "code",
   "execution_count": 11,
   "metadata": {},
   "outputs": [],
   "source": [
    "t?"
   ]
  },
  {
   "cell_type": "code",
   "execution_count": null,
   "metadata": {},
   "outputs": [],
   "source": [
    "import cairo"
   ]
  },
  {
   "cell_type": "markdown",
   "metadata": {},
   "source": [
    "### Cairo official example"
   ]
  },
  {
   "cell_type": "code",
   "execution_count": 14,
   "metadata": {},
   "outputs": [],
   "source": [
    "with cairo.SVGSurface(\"example.svg\", 200, 200) as surface:\n",
    "    context = cairo.Context(surface)\n",
    "    x, y, x1, y1 = 0.1, 0.5, 0.4, 0.9\n",
    "    x2, y2, x3, y3 = 0.6, 0.1, 0.9, 0.5\n",
    "    context.scale(200, 200)\n",
    "    context.set_line_width(0.04)\n",
    "    context.move_to(x, y)\n",
    "    context.curve_to(x1, y1, x2, y2, x3, y3)\n",
    "    context.stroke()\n",
    "    context.set_source_rgba(1, 0.2, 0.2, 0.6)\n",
    "    context.set_line_width(0.02)\n",
    "    context.move_to(x, y)\n",
    "    context.line_to(x1, y1)\n",
    "    context.move_to(x2, y2)\n",
    "    context.line_to(x3, y3)\n",
    "    context.stroke()"
   ]
  },
  {
   "cell_type": "code",
   "execution_count": 15,
   "metadata": {},
   "outputs": [],
   "source": [
    "import numpy as np"
   ]
  },
  {
   "cell_type": "code",
   "execution_count": 20,
   "metadata": {},
   "outputs": [
    {
     "data": {
      "text/plain": [
       "1.5707963267948966"
      ]
     },
     "execution_count": 20,
     "metadata": {},
     "output_type": "execute_result"
    }
   ],
   "source": [
    "def radians(degree):\n",
    "    return np.pi / 180 * degree\n",
    "\n",
    "radians(90) #1.57..."
   ]
  },
  {
   "cell_type": "code",
   "execution_count": 30,
   "metadata": {},
   "outputs": [],
   "source": [
    "def rotateby(r=(1,0), angle=30):\n",
    "    rad_angle = radians(angle)\n",
    "    rot_matrix = np.array([[np.cos(rad_angle), np.sin(rad_angle)],\n",
    "                        [-np.sin(rad_angle), np.cos(rad_angle)]])\n",
    "    return np.round(np.dot(rot_matrix, r), 2)"
   ]
  },
  {
   "cell_type": "code",
   "execution_count": 31,
   "metadata": {},
   "outputs": [
    {
     "data": {
      "text/plain": [
       "array([ 0.87, -0.5 ])"
      ]
     },
     "execution_count": 31,
     "metadata": {},
     "output_type": "execute_result"
    }
   ],
   "source": [
    "rotateby()  # 0.87, -1/2"
   ]
  },
  {
   "cell_type": "code",
   "execution_count": 56,
   "metadata": {},
   "outputs": [],
   "source": [
    "surface = cairo.ImageSurface(cairo.FORMAT_ARGB32, 900, 900)\n",
    "\n",
    "ctx = cairo.Context(surface)\n",
    "ctx.scale(9, 9)  # ->100x100\n",
    "ctx.set_line_width(.4)\n",
    "ctx.move_to(50, 90)\n",
    "\n",
    "ctx.rel_line_to(50, -90)\n",
    "ctx.stroke()\n",
    "surface.write_to_png('example.png')"
   ]
  },
  {
   "cell_type": "markdown",
   "metadata": {},
   "source": [
    "`Two state variables (x,y)-position tuple - given, no need to keep track of\n",
    "                    angle with positive x axis`"
   ]
  },
  {
   "cell_type": "code",
   "execution_count": 144,
   "metadata": {},
   "outputs": [],
   "source": [
    "def draw(func, surface=None, ctx=None, start_pos=(50,90), out='out.png', *args, **kwargs):\n",
    "    if surface == None:\n",
    "        surface = cairo.ImageSurface(cairo.FORMAT_ARGB32, 900, 900)\n",
    "        ctx = cairo.Context(surface)\n",
    "        ctx.scale(9, 9)\n",
    "        \n",
    "    # assuming 100x100 scaled context \n",
    "    ctx.set_line_width(.4)\n",
    "    ctx.move_to(50, 90)\n",
    "    \n",
    "    func(ctx, *args, **kwargs) #composite func - bad\n",
    "    surface.write_to_png(out)"
   ]
  },
  {
   "cell_type": "code",
   "execution_count": 185,
   "metadata": {},
   "outputs": [],
   "source": [
    "class Turtle_functions():\n",
    "    def __init__(self, angle=90):\n",
    "        self.angle = angle  # with positive X-axis; degrees?\n",
    "        self.stack = []     # bracket-stack\n",
    "    \n",
    "    def forward(self, ctx=ctx, r=1):\n",
    "        ctx.rel_line_to(*rotateby((r, 0), self.angle))\n",
    "        ctx.stroke()\n",
    "        \n",
    "    def left(self, angle=30):\n",
    "        self.angle += 30\n",
    "    def right(self, angle):\n",
    "        self.left(-angle)\n",
    "        \n",
    "    def push(self, ctx=ctx):\n",
    "        self.stack.append((ctx.get_current_point(), self.angle))\n",
    "        \n",
    "    def pop(self, ctx=ctx):\n",
    "        pt, angle = self.stack.pop()\n",
    "        ctx.move_to(pt); self.angle = angle"
   ]
  },
  {
   "cell_type": "markdown",
   "metadata": {},
   "source": [
    "Use case"
   ]
  },
  {
   "cell_type": "code",
   "execution_count": 139,
   "metadata": {},
   "outputs": [],
   "source": [
    "ctx = cairo.Context(surface)\n",
    "ctx.move_to(0,0)\n",
    "\n",
    "tf = Turtle_functions()"
   ]
  },
  {
   "cell_type": "code",
   "execution_count": 140,
   "metadata": {},
   "outputs": [],
   "source": [
    "draw(tf.forward, r=54)"
   ]
  },
  {
   "cell_type": "code",
   "execution_count": 186,
   "metadata": {},
   "outputs": [],
   "source": [
    "def normalize_context():\n",
    "    ctx = cairo.Context(surface)\n",
    "    ctx.scale(9, 9)  # ->100x100\n",
    "    ctx.set_line_width(.4)\n",
    "    ctx.move_to(50, 90)\n",
    "    return ctx"
   ]
  },
  {
   "cell_type": "code",
   "execution_count": 187,
   "metadata": {},
   "outputs": [],
   "source": [
    "# Ex. Dragon Curve\n",
    "surface = cairo.ImageSurface(cairo.FORMAT_ARGB32, 900, 900)\n",
    "ctx = normalize_context()\n",
    "def Dragon_curve(axiom='FX', Prod={'X': 'XLYFL', 'Y': 'RFXRY', 'L': 'L', 'R': 'R', 'F': 'F', ' ': ' '},\n",
    "                num=5, length=5):\n",
    "\n",
    "    def F():\n",
    "        tf.forward(ctx, length)\n",
    "    def X():\n",
    "        pass\n",
    "    Y = X\n",
    "    def L():\n",
    "        tf.left(90)\n",
    "    def R():\n",
    "        tf.right(90)\n",
    "\n",
    "    d_curve = rewrite(axiom, Prod, num)\n",
    "\n",
    "    a_sequence = []\n",
    "    for action in d_curve:\n",
    "        if action != ' ':\n",
    "            a_sequence.append(locals()[action])\n",
    "\n",
    "    def turtle_seq(ctx, seq: list, *args):\n",
    "        for f in seq:\n",
    "            f(*args)  # they are all unparameterized, if you'd payed attention\n",
    "\n",
    "    draw(turtle_seq, surface=surface, ctx=ctx, start_pos=(50,90), seq=a_sequence)"
   ]
  },
  {
   "cell_type": "code",
   "execution_count": 188,
   "metadata": {},
   "outputs": [
    {
     "data": {
      "text/plain": [
       "cairo.Context"
      ]
     },
     "execution_count": 188,
     "metadata": {},
     "output_type": "execute_result"
    }
   ],
   "source": [
    "type(ctx)"
   ]
  },
  {
   "cell_type": "code",
   "execution_count": 189,
   "metadata": {},
   "outputs": [
    {
     "ename": "Error",
     "evalue": "no current point defined",
     "output_type": "error",
     "traceback": [
      "\u001b[0;31m----------------------------------------------------------------------\u001b[0m",
      "\u001b[0;31mError\u001b[0m                                Traceback (most recent call last)",
      "\u001b[0;32m<ipython-input-189-0185bd145626>\u001b[0m in \u001b[0;36m<module>\u001b[0;34m()\u001b[0m\n\u001b[0;32m----> 1\u001b[0;31m \u001b[0mDragon_curve\u001b[0m\u001b[0;34m(\u001b[0m\u001b[0;34m)\u001b[0m\u001b[0;34m\u001b[0m\u001b[0m\n\u001b[0m",
      "\u001b[0;32m<ipython-input-187-1b2fad57db7d>\u001b[0m in \u001b[0;36mDragon_curve\u001b[0;34m(axiom, Prod, num, length)\u001b[0m\n\u001b[1;32m     26\u001b[0m             \u001b[0mf\u001b[0m\u001b[0;34m(\u001b[0m\u001b[0;34m*\u001b[0m\u001b[0margs\u001b[0m\u001b[0;34m)\u001b[0m  \u001b[0;31m# they are all unparameterized, if you'd payed attention\u001b[0m\u001b[0;34m\u001b[0m\u001b[0m\n\u001b[1;32m     27\u001b[0m \u001b[0;34m\u001b[0m\u001b[0m\n\u001b[0;32m---> 28\u001b[0;31m     \u001b[0mdraw\u001b[0m\u001b[0;34m(\u001b[0m\u001b[0mturtle_seq\u001b[0m\u001b[0;34m,\u001b[0m \u001b[0msurface\u001b[0m\u001b[0;34m=\u001b[0m\u001b[0msurface\u001b[0m\u001b[0;34m,\u001b[0m \u001b[0mctx\u001b[0m\u001b[0;34m=\u001b[0m\u001b[0mctx\u001b[0m\u001b[0;34m,\u001b[0m \u001b[0mstart_pos\u001b[0m\u001b[0;34m=\u001b[0m\u001b[0;34m(\u001b[0m\u001b[0;36m50\u001b[0m\u001b[0;34m,\u001b[0m\u001b[0;36m90\u001b[0m\u001b[0;34m)\u001b[0m\u001b[0;34m,\u001b[0m \u001b[0mseq\u001b[0m\u001b[0;34m=\u001b[0m\u001b[0ma_sequence\u001b[0m\u001b[0;34m)\u001b[0m\u001b[0;34m\u001b[0m\u001b[0m\n\u001b[0m",
      "\u001b[0;32m<ipython-input-144-4df45459c14a>\u001b[0m in \u001b[0;36mdraw\u001b[0;34m(func, surface, ctx, start_pos, out, *args, **kwargs)\u001b[0m\n\u001b[1;32m      9\u001b[0m     \u001b[0mctx\u001b[0m\u001b[0;34m.\u001b[0m\u001b[0mmove_to\u001b[0m\u001b[0;34m(\u001b[0m\u001b[0;36m50\u001b[0m\u001b[0;34m,\u001b[0m \u001b[0;36m90\u001b[0m\u001b[0;34m)\u001b[0m\u001b[0;34m\u001b[0m\u001b[0m\n\u001b[1;32m     10\u001b[0m \u001b[0;34m\u001b[0m\u001b[0m\n\u001b[0;32m---> 11\u001b[0;31m     \u001b[0mfunc\u001b[0m\u001b[0;34m(\u001b[0m\u001b[0mctx\u001b[0m\u001b[0;34m,\u001b[0m \u001b[0;34m*\u001b[0m\u001b[0margs\u001b[0m\u001b[0;34m,\u001b[0m \u001b[0;34m**\u001b[0m\u001b[0mkwargs\u001b[0m\u001b[0;34m)\u001b[0m \u001b[0;31m#composite func - bad\u001b[0m\u001b[0;34m\u001b[0m\u001b[0m\n\u001b[0m\u001b[1;32m     12\u001b[0m     \u001b[0msurface\u001b[0m\u001b[0;34m.\u001b[0m\u001b[0mwrite_to_png\u001b[0m\u001b[0;34m(\u001b[0m\u001b[0mout\u001b[0m\u001b[0;34m)\u001b[0m\u001b[0;34m\u001b[0m\u001b[0m\n",
      "\u001b[0;32m<ipython-input-187-1b2fad57db7d>\u001b[0m in \u001b[0;36mturtle_seq\u001b[0;34m(ctx, seq, *args)\u001b[0m\n\u001b[1;32m     24\u001b[0m     \u001b[0;32mdef\u001b[0m \u001b[0mturtle_seq\u001b[0m\u001b[0;34m(\u001b[0m\u001b[0mctx\u001b[0m\u001b[0;34m,\u001b[0m \u001b[0mseq\u001b[0m\u001b[0;34m:\u001b[0m \u001b[0mlist\u001b[0m\u001b[0;34m,\u001b[0m \u001b[0;34m*\u001b[0m\u001b[0margs\u001b[0m\u001b[0;34m)\u001b[0m\u001b[0;34m:\u001b[0m\u001b[0;34m\u001b[0m\u001b[0m\n\u001b[1;32m     25\u001b[0m         \u001b[0;32mfor\u001b[0m \u001b[0mf\u001b[0m \u001b[0;32min\u001b[0m \u001b[0mseq\u001b[0m\u001b[0;34m:\u001b[0m\u001b[0;34m\u001b[0m\u001b[0m\n\u001b[0;32m---> 26\u001b[0;31m             \u001b[0mf\u001b[0m\u001b[0;34m(\u001b[0m\u001b[0;34m*\u001b[0m\u001b[0margs\u001b[0m\u001b[0;34m)\u001b[0m  \u001b[0;31m# they are all unparameterized, if you'd payed attention\u001b[0m\u001b[0;34m\u001b[0m\u001b[0m\n\u001b[0m\u001b[1;32m     27\u001b[0m \u001b[0;34m\u001b[0m\u001b[0m\n\u001b[1;32m     28\u001b[0m     \u001b[0mdraw\u001b[0m\u001b[0;34m(\u001b[0m\u001b[0mturtle_seq\u001b[0m\u001b[0;34m,\u001b[0m \u001b[0msurface\u001b[0m\u001b[0;34m=\u001b[0m\u001b[0msurface\u001b[0m\u001b[0;34m,\u001b[0m \u001b[0mctx\u001b[0m\u001b[0;34m=\u001b[0m\u001b[0mctx\u001b[0m\u001b[0;34m,\u001b[0m \u001b[0mstart_pos\u001b[0m\u001b[0;34m=\u001b[0m\u001b[0;34m(\u001b[0m\u001b[0;36m50\u001b[0m\u001b[0;34m,\u001b[0m\u001b[0;36m90\u001b[0m\u001b[0;34m)\u001b[0m\u001b[0;34m,\u001b[0m \u001b[0mseq\u001b[0m\u001b[0;34m=\u001b[0m\u001b[0ma_sequence\u001b[0m\u001b[0;34m)\u001b[0m\u001b[0;34m\u001b[0m\u001b[0m\n",
      "\u001b[0;32m<ipython-input-187-1b2fad57db7d>\u001b[0m in \u001b[0;36mF\u001b[0;34m()\u001b[0m\n\u001b[1;32m      6\u001b[0m \u001b[0;34m\u001b[0m\u001b[0m\n\u001b[1;32m      7\u001b[0m     \u001b[0;32mdef\u001b[0m \u001b[0mF\u001b[0m\u001b[0;34m(\u001b[0m\u001b[0;34m)\u001b[0m\u001b[0;34m:\u001b[0m\u001b[0;34m\u001b[0m\u001b[0m\n\u001b[0;32m----> 8\u001b[0;31m         \u001b[0mtf\u001b[0m\u001b[0;34m.\u001b[0m\u001b[0mforward\u001b[0m\u001b[0;34m(\u001b[0m\u001b[0mctx\u001b[0m\u001b[0;34m,\u001b[0m \u001b[0mlength\u001b[0m\u001b[0;34m)\u001b[0m\u001b[0;34m\u001b[0m\u001b[0m\n\u001b[0m\u001b[1;32m      9\u001b[0m     \u001b[0;32mdef\u001b[0m \u001b[0mX\u001b[0m\u001b[0;34m(\u001b[0m\u001b[0;34m)\u001b[0m\u001b[0;34m:\u001b[0m\u001b[0;34m\u001b[0m\u001b[0m\n\u001b[1;32m     10\u001b[0m         \u001b[0;32mpass\u001b[0m\u001b[0;34m\u001b[0m\u001b[0m\n",
      "\u001b[0;32m<ipython-input-138-640125b101e2>\u001b[0m in \u001b[0;36mforward\u001b[0;34m(self, ctx, r)\u001b[0m\n\u001b[1;32m      5\u001b[0m \u001b[0;34m\u001b[0m\u001b[0m\n\u001b[1;32m      6\u001b[0m     \u001b[0;32mdef\u001b[0m \u001b[0mforward\u001b[0m\u001b[0;34m(\u001b[0m\u001b[0mself\u001b[0m\u001b[0;34m,\u001b[0m \u001b[0mctx\u001b[0m\u001b[0;34m,\u001b[0m \u001b[0mr\u001b[0m\u001b[0;34m=\u001b[0m\u001b[0;36m1\u001b[0m\u001b[0;34m)\u001b[0m\u001b[0;34m:\u001b[0m\u001b[0;34m\u001b[0m\u001b[0m\n\u001b[0;32m----> 7\u001b[0;31m         \u001b[0mctx\u001b[0m\u001b[0;34m.\u001b[0m\u001b[0mrel_line_to\u001b[0m\u001b[0;34m(\u001b[0m\u001b[0;34m*\u001b[0m\u001b[0mrotateby\u001b[0m\u001b[0;34m(\u001b[0m\u001b[0;34m(\u001b[0m\u001b[0mr\u001b[0m\u001b[0;34m,\u001b[0m \u001b[0;36m0\u001b[0m\u001b[0;34m)\u001b[0m\u001b[0;34m,\u001b[0m \u001b[0mself\u001b[0m\u001b[0;34m.\u001b[0m\u001b[0mangle\u001b[0m\u001b[0;34m)\u001b[0m\u001b[0;34m)\u001b[0m\u001b[0;34m\u001b[0m\u001b[0m\n\u001b[0m\u001b[1;32m      8\u001b[0m         \u001b[0mctx\u001b[0m\u001b[0;34m.\u001b[0m\u001b[0mstroke\u001b[0m\u001b[0;34m(\u001b[0m\u001b[0;34m)\u001b[0m\u001b[0;34m\u001b[0m\u001b[0m\n\u001b[1;32m      9\u001b[0m \u001b[0;34m\u001b[0m\u001b[0m\n",
      "\u001b[0;31mError\u001b[0m: no current point defined"
     ]
    }
   ],
   "source": [
    "Dragon_curve()"
   ]
  },
  {
   "cell_type": "code",
   "execution_count": null,
   "metadata": {},
   "outputs": [],
   "source": []
  }
 ],
 "metadata": {
  "kernelspec": {
   "display_name": "Python 3",
   "language": "python",
   "name": "python3"
  },
  "language_info": {
   "codemirror_mode": {
    "name": "ipython",
    "version": 3
   },
   "file_extension": ".py",
   "mimetype": "text/x-python",
   "name": "python",
   "nbconvert_exporter": "python",
   "pygments_lexer": "ipython3",
   "version": "3.6.5"
  }
 },
 "nbformat": 4,
 "nbformat_minor": 2
}
